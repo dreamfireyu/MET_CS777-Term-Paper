{
 "cells": [
  {
   "cell_type": "code",
   "execution_count": 1,
   "id": "85734f68",
   "metadata": {},
   "outputs": [],
   "source": [
    "import os\n",
    "import time\n",
    "import pandas as pd\n",
    "import akshare as ak\n",
    "import datetime\n",
    "import warnings\n",
    "from datetime import timedelta, datetime\n",
    "warnings.filterwarnings(\"ignore\")\n",
    "pd.set_option('display.max_rows', None)\n",
    "pd.set_option('display.max_columns', None)\n",
    "pd.set_option('expand_frame_repr', False)\n",
    "pd.set_option('display.unicode.ambiguous_as_wide', True)\n",
    "pd.set_option('display.unicode.east_asian_width', True)"
   ]
  },
  {
   "cell_type": "code",
   "execution_count": 2,
   "id": "b4ee6245",
   "metadata": {},
   "outputs": [
    {
     "name": "stderr",
     "output_type": "stream",
     "text": [
      "IOPub data rate exceeded.                                                                                                                                                                           \n",
      "The notebook server will temporarily stop sending output\n",
      "to the client in order to avoid crashing it.\n",
      "To change this limit, set the config variable\n",
      "`--NotebookApp.iopub_data_rate_limit`.\n",
      "\n",
      "Current values:\n",
      "NotebookApp.iopub_data_rate_limit=1000000.0 (bytes/sec)\n",
      "NotebookApp.rate_limit_window=3.0 (secs)\n",
      "\n"
     ]
    }
   ],
   "source": [
    "us_stock_current_df = ak.stock_us_spot()\n",
    "print(us_stock_current_df)"
   ]
  },
  {
   "cell_type": "code",
   "execution_count": 3,
   "id": "5f367538",
   "metadata": {},
   "outputs": [
    {
     "name": "stdout",
     "output_type": "stream",
     "text": [
      "<class 'pandas.core.frame.DataFrame'>\n",
      "RangeIndex: 14217 entries, 0 to 14216\n",
      "Data columns (total 17 columns):\n",
      " #   Column       Non-Null Count  Dtype \n",
      "---  ------       --------------  ----- \n",
      " 0   name         14217 non-null  object\n",
      " 1   cname        14217 non-null  object\n",
      " 2   category     4602 non-null   object\n",
      " 3   symbol       14217 non-null  object\n",
      " 4   price        14217 non-null  object\n",
      " 5   diff         14217 non-null  object\n",
      " 6   chg          14217 non-null  object\n",
      " 7   preclose     14217 non-null  object\n",
      " 8   open         14217 non-null  object\n",
      " 9   high         14217 non-null  object\n",
      " 10  low          14217 non-null  object\n",
      " 11  amplitude    14217 non-null  object\n",
      " 12  volume       14217 non-null  object\n",
      " 13  mktcap       14217 non-null  object\n",
      " 14  pe           6974 non-null   object\n",
      " 15  market       14217 non-null  object\n",
      " 16  category_id  4602 non-null   object\n",
      "dtypes: object(17)\n",
      "memory usage: 1.8+ MB\n"
     ]
    }
   ],
   "source": [
    "us_stock_current_df.info()"
   ]
  },
  {
   "cell_type": "code",
   "execution_count": 8,
   "id": "96f4b2cc",
   "metadata": {},
   "outputs": [],
   "source": [
    "us_stock_current_df.to_csv('us_stock_current_df.csv',index=False,encoding='gbk')"
   ]
  },
  {
   "cell_type": "code",
   "execution_count": 21,
   "id": "1a2e6c7f",
   "metadata": {},
   "outputs": [
    {
     "data": {
      "text/html": [
       "<div>\n",
       "<style scoped>\n",
       "    .dataframe tbody tr th:only-of-type {\n",
       "        vertical-align: middle;\n",
       "    }\n",
       "\n",
       "    .dataframe tbody tr th {\n",
       "        vertical-align: top;\n",
       "    }\n",
       "\n",
       "    .dataframe thead th {\n",
       "        text-align: right;\n",
       "    }\n",
       "</style>\n",
       "<table border=\"1\" class=\"dataframe\">\n",
       "  <thead>\n",
       "    <tr style=\"text-align: right;\">\n",
       "      <th></th>\n",
       "      <th>name</th>\n",
       "      <th>cname</th>\n",
       "      <th>category</th>\n",
       "      <th>symbol</th>\n",
       "      <th>price</th>\n",
       "      <th>diff</th>\n",
       "      <th>chg</th>\n",
       "      <th>preclose</th>\n",
       "      <th>open</th>\n",
       "      <th>high</th>\n",
       "      <th>low</th>\n",
       "      <th>amplitude</th>\n",
       "      <th>volume</th>\n",
       "      <th>mktcap</th>\n",
       "      <th>pe</th>\n",
       "      <th>market</th>\n",
       "      <th>category_id</th>\n",
       "      <th>Stock_ID</th>\n",
       "    </tr>\n",
       "  </thead>\n",
       "  <tbody>\n",
       "    <tr>\n",
       "      <th>0</th>\n",
       "      <td>Apple, Inc.</td>\n",
       "      <td>苹果公司</td>\n",
       "      <td>计算机</td>\n",
       "      <td>AAPL</td>\n",
       "      <td>189.97</td>\n",
       "      <td>-1.34</td>\n",
       "      <td>-0.70</td>\n",
       "      <td>191.31</td>\n",
       "      <td>190.87</td>\n",
       "      <td>190.90</td>\n",
       "      <td>189.25</td>\n",
       "      <td>0.86%</td>\n",
       "      <td>23918892</td>\n",
       "      <td>2954556316425</td>\n",
       "      <td>30.83928668</td>\n",
       "      <td>NASDAQ</td>\n",
       "      <td>5</td>\n",
       "      <td>1000000</td>\n",
       "    </tr>\n",
       "    <tr>\n",
       "      <th>1</th>\n",
       "      <td>Microsoft Corp.</td>\n",
       "      <td>微软公司</td>\n",
       "      <td>软件</td>\n",
       "      <td>MSFT</td>\n",
       "      <td>377.43</td>\n",
       "      <td>-0.42</td>\n",
       "      <td>-0.11</td>\n",
       "      <td>377.85</td>\n",
       "      <td>377.33</td>\n",
       "      <td>377.97</td>\n",
       "      <td>375.13</td>\n",
       "      <td>0.75%</td>\n",
       "      <td>9347023</td>\n",
       "      <td>2805158716399</td>\n",
       "      <td>36.39633528</td>\n",
       "      <td>NASDAQ</td>\n",
       "      <td>14</td>\n",
       "      <td>1000001</td>\n",
       "    </tr>\n",
       "    <tr>\n",
       "      <th>2</th>\n",
       "      <td>Alphabet, Inc.</td>\n",
       "      <td>谷歌</td>\n",
       "      <td>互联网</td>\n",
       "      <td>GOOG</td>\n",
       "      <td>138.22</td>\n",
       "      <td>-1.80</td>\n",
       "      <td>-1.29</td>\n",
       "      <td>140.02</td>\n",
       "      <td>139.54</td>\n",
       "      <td>139.68</td>\n",
       "      <td>137.47</td>\n",
       "      <td>1.58%</td>\n",
       "      <td>8808656</td>\n",
       "      <td>1729961535278</td>\n",
       "      <td>26.32761928</td>\n",
       "      <td>NASDAQ</td>\n",
       "      <td>41</td>\n",
       "      <td>1000002</td>\n",
       "    </tr>\n",
       "    <tr>\n",
       "      <th>3</th>\n",
       "      <td>Alphabet, Inc.</td>\n",
       "      <td>谷歌A类股</td>\n",
       "      <td>媒体内容</td>\n",
       "      <td>GOOGL</td>\n",
       "      <td>136.69</td>\n",
       "      <td>-1.80</td>\n",
       "      <td>-1.30</td>\n",
       "      <td>138.49</td>\n",
       "      <td>138.03</td>\n",
       "      <td>138.13</td>\n",
       "      <td>135.99</td>\n",
       "      <td>1.55%</td>\n",
       "      <td>12485500</td>\n",
       "      <td>1710812070557</td>\n",
       "      <td>26.03619094</td>\n",
       "      <td>NASDAQ</td>\n",
       "      <td>702</td>\n",
       "      <td>1000003</td>\n",
       "    </tr>\n",
       "    <tr>\n",
       "      <th>4</th>\n",
       "      <td>Amazon.com, Inc.</td>\n",
       "      <td>亚马逊公司</td>\n",
       "      <td>互联网</td>\n",
       "      <td>AMZN</td>\n",
       "      <td>146.74</td>\n",
       "      <td>0.03</td>\n",
       "      <td>0.02</td>\n",
       "      <td>146.71</td>\n",
       "      <td>146.70</td>\n",
       "      <td>147.20</td>\n",
       "      <td>145.32</td>\n",
       "      <td>1.28%</td>\n",
       "      <td>21549822</td>\n",
       "      <td>1516415704956</td>\n",
       "      <td>75.25128303</td>\n",
       "      <td>NASDAQ</td>\n",
       "      <td>41</td>\n",
       "      <td>1000004</td>\n",
       "    </tr>\n",
       "  </tbody>\n",
       "</table>\n",
       "</div>"
      ],
      "text/plain": [
       "               name       cname  category symbol   price   diff    chg preclose    open    high     low amplitude    volume         mktcap           pe  market category_id  Stock_ID\n",
       "0       Apple, Inc.    苹果公司    计算机   AAPL  189.97  -1.34  -0.70   191.31  190.87  190.90  189.25     0.86%  23918892  2954556316425  30.83928668  NASDAQ           5   1000000\n",
       "1   Microsoft Corp.    微软公司      软件   MSFT  377.43  -0.42  -0.11   377.85  377.33  377.97  375.13     0.75%   9347023  2805158716399  36.39633528  NASDAQ          14   1000001\n",
       "2    Alphabet, Inc.        谷歌    互联网   GOOG  138.22  -1.80  -1.29   140.02  139.54  139.68  137.47     1.58%   8808656  1729961535278  26.32761928  NASDAQ          41   1000002\n",
       "3    Alphabet, Inc.   谷歌A类股  媒体内容  GOOGL  136.69  -1.80  -1.30   138.49  138.03  138.13  135.99     1.55%  12485500  1710812070557  26.03619094  NASDAQ         702   1000003\n",
       "4  Amazon.com, Inc.  亚马逊公司    互联网   AMZN  146.74   0.03   0.02   146.71  146.70  147.20  145.32     1.28%  21549822  1516415704956  75.25128303  NASDAQ          41   1000004"
      ]
     },
     "execution_count": 21,
     "metadata": {},
     "output_type": "execute_result"
    }
   ],
   "source": [
    "us_stock_current_df[:5]"
   ]
  },
  {
   "cell_type": "code",
   "execution_count": 26,
   "id": "5adb3ed9",
   "metadata": {},
   "outputs": [],
   "source": [
    "us_stock_current_df = pd.read_csv('us_stock_current_df.csv',encoding='gbk')\n",
    "us_stock_current_df['Stock_ID'] = range(len(us_stock_current_df))\n",
    "us_stock_current_df['Stock_ID'] += 1000000"
   ]
  },
  {
   "cell_type": "code",
   "execution_count": 27,
   "id": "842d6cc9",
   "metadata": {},
   "outputs": [],
   "source": [
    "us_stock_current_df['Stock_Code'] = us_stock_current_df['symbol']\n",
    "us_stock_current_df['Stock_Name'] = us_stock_current_df['name']\n",
    "us_stock_current_df['Stock_Market'] = us_stock_current_df['market']\n",
    "us_stock_current_df['Total_Value'] = us_stock_current_df['mktcap']\n",
    "us_stock_current_df['Total_Value_Prev'] = 0\n",
    "us_stock_current_df['Stock_Industry'] = us_stock_current_df['category']\n",
    "us_stock_current_df['Stock_Industry_Prev'] = \"\"\n",
    "us_stock_current_df = us_stock_current_df[['Stock_ID','Stock_Name', 'Stock_Industry','Stock_Industry_Prev','Stock_Market',\n",
    "                                           'Stock_Code','Total_Value','Total_Value_Prev']]"
   ]
  },
  {
   "cell_type": "code",
   "execution_count": 35,
   "id": "c4e21b56",
   "metadata": {},
   "outputs": [],
   "source": [
    "us_stock_current_df.to_csv('Dim_stock_us.csv',index=False,encoding='gbk')"
   ]
  },
  {
   "cell_type": "code",
   "execution_count": 33,
   "id": "e2845929",
   "metadata": {},
   "outputs": [],
   "source": [
    "us_stock_current_df.dropna(subset=['Stock_Name', 'Stock_Market', \n",
    "                                   'Stock_Code', 'Total_Value'], inplace=True)"
   ]
  },
  {
   "cell_type": "code",
   "execution_count": 34,
   "id": "4c691b7c",
   "metadata": {},
   "outputs": [
    {
     "name": "stdout",
     "output_type": "stream",
     "text": [
      "<class 'pandas.core.frame.DataFrame'>\n",
      "Index: 14011 entries, 0 to 14421\n",
      "Data columns (total 8 columns):\n",
      " #   Column               Non-Null Count  Dtype \n",
      "---  ------               --------------  ----- \n",
      " 0   Stock_ID             14011 non-null  int64 \n",
      " 1   Stock_Name           14011 non-null  object\n",
      " 2   Stock_Industry       3339 non-null   object\n",
      " 3   Stock_Industry_Prev  14011 non-null  object\n",
      " 4   Stock_Market         14011 non-null  object\n",
      " 5   Stock_Code           14011 non-null  object\n",
      " 6   Total_Value          14011 non-null  object\n",
      " 7   Total_Value_Prev     14011 non-null  int64 \n",
      "dtypes: int64(2), object(6)\n",
      "memory usage: 985.1+ KB\n"
     ]
    }
   ],
   "source": [
    "us_stock_current_df.info()"
   ]
  }
 ],
 "metadata": {
  "kernelspec": {
   "display_name": "Python 3 (ipykernel)",
   "language": "python",
   "name": "python3"
  },
  "language_info": {
   "codemirror_mode": {
    "name": "ipython",
    "version": 3
   },
   "file_extension": ".py",
   "mimetype": "text/x-python",
   "name": "python",
   "nbconvert_exporter": "python",
   "pygments_lexer": "ipython3",
   "version": "3.11.5"
  }
 },
 "nbformat": 4,
 "nbformat_minor": 5
}
